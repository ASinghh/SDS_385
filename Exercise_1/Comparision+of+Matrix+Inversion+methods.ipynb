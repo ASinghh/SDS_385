{
 "cells": [
  {
   "cell_type": "code",
   "execution_count": 1,
   "metadata": {
    "collapsed": true
   },
   "outputs": [],
   "source": [
    "##Importing libraries\n",
    "import scipy as sp\n",
    "import numpy as np\n",
    "import time as tm\n",
    "import scipy.linalg"
   ]
  },
  {
   "cell_type": "code",
   "execution_count": 2,
   "metadata": {
    "collapsed": true
   },
   "outputs": [],
   "source": [
    "##if we take W to be an identity matrix, then X'WX is a square matrix of PxP dimension\n",
    "## Similarly X'WY is a matrix of Px1\n",
    "## so to simplyfy coding, we will write the equation as Ax = b, where A is PxP and b is Px1\n",
    "##we need to generate only two matrices\n",
    "\n",
    "a = np.random.rand(10,10) ## for testing our function\n",
    "b = np.random.rand(10,1)  ## for testing out functions"
   ]
  },
  {
   "cell_type": "code",
   "execution_count": 3,
   "metadata": {},
   "outputs": [
    {
     "name": "stdout",
     "output_type": "stream",
     "text": [
      "[[-1.40173051]\n",
      " [ 2.5642306 ]\n",
      " [-0.50380237]\n",
      " [ 0.75941576]\n",
      " [-0.65054641]\n",
      " [-0.93024357]\n",
      " [ 1.47496571]\n",
      " [-1.23947171]\n",
      " [ 0.82154117]\n",
      " [-0.42503899]]\n",
      "[[-1.40173051]\n",
      " [ 2.5642306 ]\n",
      " [-0.50380237]\n",
      " [ 0.75941576]\n",
      " [-0.65054641]\n",
      " [-0.93024357]\n",
      " [ 1.47496571]\n",
      " [-1.23947171]\n",
      " [ 0.82154117]\n",
      " [-0.42503899]]\n",
      "[[-1.40173051]\n",
      " [ 2.5642306 ]\n",
      " [-0.50380237]\n",
      " [ 0.75941576]\n",
      " [-0.65054641]\n",
      " [-0.93024357]\n",
      " [ 1.47496571]\n",
      " [-1.23947171]\n",
      " [ 0.82154117]\n",
      " [-0.42503899]]\n"
     ]
    }
   ],
   "source": [
    "##I will write a function for LU method and Inversion method and compare them\n",
    "##I will also use the numpy solver\n",
    "##I have a bad feeling about this, if I could reduce the time using my function, this would mean\n",
    "## I have performed better then a highly optimized python library\n",
    "\n",
    "def inverse_sol(a,b): ## solving using inverse\n",
    "    x = np.matmul(np.linalg.inv(a),b)\n",
    "    return x\n",
    "\n",
    "print(inverse_sol(a,b))\n",
    "\n",
    "def lu_sol(a,b): ## solving using LU decomposition\n",
    "    p,l,u = scipy.linalg.lu(a)\n",
    "    x = np.matmul(np.linalg.inv(u),np.matmul(np.linalg.inv(l),np.matmul(np.linalg.inv(p),b)))\n",
    "    return x\n",
    "print (lu_sol(a,b))\n",
    "\n",
    "print(np.linalg.solve(a,b)) ## using solve from numpy library\n",
    "\n",
    "\n",
    "    "
   ]
  },
  {
   "cell_type": "code",
   "execution_count": 4,
   "metadata": {
    "collapsed": true
   },
   "outputs": [],
   "source": [
    "## we get the same answer from all the three solvers, Now I will write a function to record the \n",
    "## the run time, and use it to compare\n"
   ]
  },
  {
   "cell_type": "code",
   "execution_count": 5,
   "metadata": {
    "collapsed": true
   },
   "outputs": [],
   "source": [
    "import scipy.sparse\n",
    "def fn(function,b,c):\n",
    "    st = tm.time()\n",
    "    function(b,c)\n",
    "    return (tm.time() - st)"
   ]
  },
  {
   "cell_type": "code",
   "execution_count": 6,
   "metadata": {
    "collapsed": true
   },
   "outputs": [],
   "source": [
    "inv = []\n",
    "lu = []\n",
    "inb = []\n",
    "PL = []\n",
    "for i in range(10):\n",
    "    P = 1000+(i*1000)\n",
    "    PL.append(P)\n",
    "    a = scipy.sparse.rand(P,P, density= 1, format='coo', dtype=None, random_state=None)\n",
    "    A = scipy.sparse.csr_matrix.todense(a)\n",
    "    b = np.random.rand(P,1)\n",
    "    inv.append(fn(inverse_sol,A,b))\n",
    "    lu.append(fn(lu_sol,A,b))\n",
    "    inb.append(fn(np.linalg.solve,A,b))\n",
    "    \n"
   ]
  },
  {
   "cell_type": "code",
   "execution_count": 7,
   "metadata": {},
   "outputs": [
    {
     "data": {
      "image/png": "[encoded data removed]",
      "text/plain": [
       "<matplotlib.figure.Figure at 0x17a257ad860>"
      ]
     },
     "metadata": {},
     "output_type": "display_data"
    }
   ],
   "source": [
    "import matplotlib.pyplot as plt\n",
    "plt.plot(PL, inv, PL, lu, PL, inb)\n",
    "plt.show()\n"
   ]
  },
  {
   "cell_type": "code",
   "execution_count": 129,
   "metadata": {
    "collapsed": true
   },
   "outputs": [],
   "source": [
    "##LU decomposition took the maximum time, inverse function is in the middle and the inbuilt function\n",
    "## is the best"
   ]
  },
  {
   "cell_type": "code",
   "execution_count": 20,
   "metadata": {},
   "outputs": [],
   "source": [
    "##Exploring sparsity\n",
    "P = 1000\n",
    "spar = []\n",
    "inb  = []\n",
    "for i in range(5):\n",
    "    k = 0.05 + i*0.2\n",
    "    spar.append(k)\n",
    "    a = scipy.sparse.rand(P,P, density= k, format='coo', dtype=None, random_state=None)\n",
    "    b = np.random.rand(P,1)\n",
    "    inb.append(fn(scipy.sparse.linalg.lsqr,a,b))\n",
    "    "
   ]
  },
  {
   "cell_type": "code",
   "execution_count": 21,
   "metadata": {},
   "outputs": [
    {
     "data": {
      "image/png": "[encoded data removed]",
      "text/plain": [
       "<matplotlib.figure.Figure at 0x17a02993fd0>"
      ]
     },
     "metadata": {},
     "output_type": "display_data"
    }
   ],
   "source": [
    "plt.plot(spar,inb)\n",
    "plt.show()"
   ]
  },
  {
   "cell_type": "code",
   "execution_count": 22,
   "metadata": {
    "collapsed": true
   },
   "outputs": [],
   "source": [
    "P = 500\n",
    "spar = []\n",
    "lu = []\n",
    "for i in range(10):\n",
    "    k = 0.05 + i*0.1\n",
    "    spar.append(k)\n",
    "    a = scipy.sparse.rand(P,P, density= k, format='coo', dtype=None, random_state=None)\n",
    "    b = np.random.rand(P,1)\n",
    "    lu.append(fn(scipy.sparse.linalg.lsqr,a,b))"
   ]
  },
  {
   "cell_type": "code",
   "execution_count": 23,
   "metadata": {},
   "outputs": [
    {
     "data": {
      "image/png": "[encoded data removed]",
      "text/plain": [
       "<matplotlib.figure.Figure at 0x17a0320e668>"
      ]
     },
     "metadata": {},
     "output_type": "display_data"
    }
   ],
   "source": [
    "plt.plot(spar,lu)\n",
    "plt.show()"
   ]
  },
  {
   "cell_type": "code",
   "execution_count": null,
   "metadata": {
    "collapsed": true
   },
   "outputs": [],
   "source": [
    "## Time increases as sparsity decreases"
   ]
  }
 ],
 "metadata": {
  "kernelspec": {
   "display_name": "Python 3",
   "language": "python",
   "name": "python3"
  },
  "language_info": {
   "codemirror_mode": {
    "name": "ipython",
    "version": 3
   },
   "file_extension": ".py",
   "mimetype": "text/x-python",
   "name": "python",
   "nbconvert_exporter": "python",
   "pygments_lexer": "ipython3",
   "version": "3.6.1"
  }
 },
 "nbformat": 4,
 "nbformat_minor": 2
}
