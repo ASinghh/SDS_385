{
 "cells": [
  {
   "cell_type": "code",
   "execution_count": 1,
   "metadata": {
    "collapsed": true
   },
   "outputs": [],
   "source": [
    "## These steps are similar to last exercise as I am reusing the code, now I am trying to implement\n",
    "## line search and compare it to the SGD with fixed step size\n",
    "\n",
    "import numpy as np\n",
    "import sklearn as sk\n",
    "import matplotlib.pyplot as plt\n",
    "import helper_line as hp\n",
    "import time as tm\n"
   ]
  },
  {
   "cell_type": "code",
   "execution_count": 3,
   "metadata": {},
   "outputs": [
    {
     "data": {
      "text/plain": [
       "array([[-13.92209987,   1.59410445,  -2.86954826],\n",
       "       [  7.99583294,   8.86001031,  13.96738491],\n",
       "       [  3.48303857, -28.84624731,  -6.4563109 ]])"
      ]
     },
     "execution_count": 3,
     "metadata": {},
     "output_type": "execute_result"
    }
   ],
   "source": [
    "# Create a random data set with 3 features and 1000 data points\n",
    "size = 100000\n",
    "dim = 3\n",
    "X = np.random.normal(loc=0.0, scale=10.0, size= (size,dim))\n",
    "# Lets us look at the dataset\n",
    "X[1:4]"
   ]
  },
  {
   "cell_type": "code",
   "execution_count": 4,
   "metadata": {},
   "outputs": [
    {
     "data": {
      "text/plain": [
       "array([1, 1, 1, 0, 0, 1, 1, 1, 0])"
      ]
     },
     "execution_count": 4,
     "metadata": {},
     "output_type": "execute_result"
    }
   ],
   "source": [
    "# create random labels( for now I am keeping it binary)\n",
    "Y = np.random.choice([0, 1], size=(size,), p=[1./2, 1./2])\n",
    "# Take a look\n",
    "Y[1:10]"
   ]
  },
  {
   "cell_type": "code",
   "execution_count": 5,
   "metadata": {
    "collapsed": true
   },
   "outputs": [],
   "source": [
    "# this finction will return small batches of the data to be fed to the SGD function\n",
    "cursor = 0\n",
    "\n",
    "def feed(batch_size):\n",
    "    assert size%batch_size == 0 ##to make sure perfect allocation of data\n",
    "    global cursor\n",
    "    x_train = X[cursor:cursor+batch_size]\n",
    "    y_train = Y[cursor:cursor+batch_size]\n",
    "    if cursor == size  :\n",
    "        cursor = 0\n",
    "    else :\n",
    "        cursor += batch_size\n",
    "    return x_train, y_train\n",
    "    "
   ]
  },
  {
   "cell_type": "code",
   "execution_count": 6,
   "metadata": {},
   "outputs": [
    {
     "data": {
      "text/plain": [
       "array([[False, False, False]], dtype=bool)"
      ]
     },
     "execution_count": 6,
     "metadata": {},
     "output_type": "execute_result"
    }
   ],
   "source": [
    "# let us test our feed function\n",
    "a,b = feed(1)\n",
    "p,q = feed(1)\n",
    "a == p"
   ]
  },
  {
   "cell_type": "code",
   "execution_count": 7,
   "metadata": {},
   "outputs": [
    {
     "name": "stdout",
     "output_type": "stream",
     "text": [
      "[ 0.62303022  0.05798121  0.24294967]\n"
     ]
    }
   ],
   "source": [
    "## from the above test we can be confident that the function feeds sequential data\n",
    "\n",
    "cursor = 0\n",
    "## Initializing parameters\n",
    "B = np.random.uniform(size=(dim,))\n",
    "print(B)\n",
    "\n",
    "## activation finction for the logistic regression\n",
    "def activation_sigmoid(p):\n",
    "\n",
    "    return 1.0 / (1 + np.exp(-p))\n",
    "\n",
    "def SGD(step_size, batch_size):\n",
    "    x,y = feed(batch_size)\n",
    "    global B\n",
    "    logits = x.dot(B) ## dot product\n",
    "    w = activation_sigmoid(logits) + 1e-5 ## This gives probability\n",
    "    loss  = hp.neg_log_likely(y,w) ## finding negative log likleyhood\n",
    "    loss_list.append(loss)\n",
    "    grad =  hp.gradient(x,y,w) ##To make it independent from batchsize? Ask professor!\n",
    "    B += -(step_size * grad)\n",
    "    \n",
    "        \n"
   ]
  },
  {
   "cell_type": "code",
   "execution_count": 17,
   "metadata": {},
   "outputs": [
    {
     "name": "stderr",
     "output_type": "stream",
     "text": [
      "C:\\Users\\ashut\\Desktop\\SDS 385\\Exercise_3\\Helper.py:59: RuntimeWarning: invalid value encountered in log\n",
      "  l = -(np.nan_to_num(np.dot(y.transpose(), np.log(w))) + np.nan_to_num(np.dot((1-y).transpose(), np.log(1-w))))\n"
     ]
    },
    {
     "data": {
      "image/png": "[encoded data removed]",
      "text/plain": [
       "<matplotlib.figure.Figure at 0x2572fac0cc0>"
      ]
     },
     "metadata": {},
     "output_type": "display_data"
    }
   ],
   "source": [
    "## After stepsize = 0.05 loss goes crazy\n",
    "\n",
    "cursor = 0\n",
    "B = np.random.uniform(size=(dim,))\n",
    "loss_list = []\n",
    "for i  in range(100):\n",
    "    \n",
    "    SGD(0.05,1000) \n",
    "\n",
    "plt.plot(loss_list)\n",
    "plt.show()\n",
    "\n",
    "\n",
    "#### I have added a small error term, still i get these log errors! :("
   ]
  },
  {
   "cell_type": "code",
   "execution_count": 8,
   "metadata": {},
   "outputs": [
    {
     "name": "stderr",
     "output_type": "stream",
     "text": [
      "C:\\Users\\ashut\\Desktop\\SDS 385\\Exercise_3\\helper_line.py:59: RuntimeWarning: divide by zero encountered in log\n",
      "  l = -(np.nan_to_num(np.dot(y.transpose(), np.log(w))) + np.nan_to_num(np.dot((1-y).transpose(), np.log(1-w))))\n",
      "C:\\Users\\ashut\\Desktop\\SDS 385\\Exercise_3\\helper_line.py:59: RuntimeWarning: invalid value encountered in log\n",
      "  l = -(np.nan_to_num(np.dot(y.transpose(), np.log(w))) + np.nan_to_num(np.dot((1-y).transpose(), np.log(1-w))))\n"
     ]
    },
    {
     "name": "stdout",
     "output_type": "stream",
     "text": [
      "1.4646341800689697\n"
     ]
    },
    {
     "data": {
      "image/png": "[encoded data removed]",
      "text/plain": [
       "<matplotlib.figure.Figure at 0x201517b9c50>"
      ]
     },
     "metadata": {},
     "output_type": "display_data"
    }
   ],
   "source": [
    "## let us try line serach with this, I will keep everything the same, except that I will add line search\n",
    "##\n",
    "def SGD( batch_size):\n",
    "    x,y = feed(batch_size)\n",
    "    global B\n",
    "    step_size = hp.line_search(B,0.5,0.01,x,y,.5)## look at the helper_line.py for step size function\n",
    "    logits = x.dot(B) ## dot product\n",
    "    w = activation_sigmoid(logits) + 1e-5 ## This gives probability\n",
    "    loss  = hp.neg_log_likely(y,w) ## finding negative log likleyhood\n",
    "    loss_list.append(loss)\n",
    "    grad =  hp.gradient(x,y,w)\n",
    "    B += -(step_size * grad)\n",
    "k = tm.time()\n",
    "B = np.random.uniform(size=(dim,))\n",
    "loss_list = []\n",
    "for i  in range(100):\n",
    "\n",
    "    SGD(1000) \n",
    "print(tm.time()-k)\n",
    "\n",
    "plt.plot(loss_list)\n",
    "plt.show()"
   ]
  },
  {
   "cell_type": "code",
   "execution_count": null,
   "metadata": {
    "collapsed": true
   },
   "outputs": [],
   "source": [
    "## comparing the plots it is very clear that for all other parameters the same, line search achieved \n",
    "## the minimum faster, clearly we want to got with line search"
   ]
  }
 ],
 "metadata": {
  "kernelspec": {
   "display_name": "Python 3",
   "language": "python",
   "name": "python3"
  },
  "language_info": {
   "codemirror_mode": {
    "name": "ipython",
    "version": 3
   },
   "file_extension": ".py",
   "mimetype": "text/x-python",
   "name": "python",
   "nbconvert_exporter": "python",
   "pygments_lexer": "ipython3",
   "version": "3.6.1"
  }
 },
 "nbformat": 4,
 "nbformat_minor": 2
}
