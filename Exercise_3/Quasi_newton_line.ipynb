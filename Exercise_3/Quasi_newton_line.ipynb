{
 "cells": [
  {
   "cell_type": "code",
   "execution_count": 6,
   "metadata": {
    "collapsed": true
   },
   "outputs": [],
   "source": [
    "import numpy as np\n",
    "import sklearn as sk\n",
    "import pandas as pd\n",
    "import matplotlib.pyplot as plt\n",
    "import helper_line as hp\n",
    "from sklearn import preprocessing\n",
    "import matplotlib.pyplot as plt\n",
    "import time as tm"
   ]
  },
  {
   "cell_type": "code",
   "execution_count": 7,
   "metadata": {},
   "outputs": [],
   "source": [
    "data = pd.read_csv(\"wdbc.csv\")\n",
    "X = data.drop(['0'], axis=1).values\n",
    "scaler = preprocessing.StandardScaler().fit(X) # scaling  element  \n",
    "X = scaler.transform(X)## scaling transformation\n",
    "YD = data[[\"0\"]].values \n",
    "YL =[]\n",
    "for i in YD:                      ## replacing M by 1 and B by 0\n",
    "    if i == \"M\":\n",
    "        YL.append(1)\n",
    "    else:\n",
    "        YL.append(0)\n",
    "Y = np.asarray(YL)\n",
    "Y = np.reshape(Y, (len(Y),1))\n",
    "x_train = X[1:500]              ## Deviding data into train and test datasets\n",
    "x_test = X[500:]\n",
    "\n",
    "y_train = Y[1:500]\n",
    "y_test = Y[500:]"
   ]
  },
  {
   "cell_type": "code",
   "execution_count": 9,
   "metadata": {},
   "outputs": [
    {
     "data": {
      "text/plain": [
       "11"
      ]
     },
     "execution_count": 9,
     "metadata": {},
     "output_type": "execute_result"
    }
   ],
   "source": [
    "len(x_train[1])"
   ]
  },
  {
   "cell_type": "code",
   "execution_count": 61,
   "metadata": {
    "scrolled": false
   },
   "outputs": [
    {
     "name": "stderr",
     "output_type": "stream",
     "text": [
      "C:\\Users\\ashut\\Desktop\\SDS 385\\Exercise_3\\helper_line.py:59: RuntimeWarning: divide by zero encountered in log\n",
      "  l = -(np.nan_to_num(np.dot(y.transpose(), np.log(w))) + np.nan_to_num(np.dot((1-y).transpose(), np.log(1-w))))\n"
     ]
    }
   ],
   "source": [
    "no_steps = 100\n",
    "loss_list = []  ## to store loss\n",
    "step_size_list = [] ## to store line search step size\n",
    "Hess = np.identity(11)  ## initializing the hessian as an identity matrix\n",
    "\n",
    "B = np.random.standard_normal(size = (11,1)) ## initializing the coefficients\n",
    "logit = hp.logits(B,x_train)\n",
    "w = hp.activation_sigmoid(logit)\n",
    "grad_ini = hp.gradient(x_train,y_train,w)\n",
    "grad_fin = 0\n",
    "\n",
    "\n",
    "## this loop is the quasi newton method\n",
    "for i in range(no_steps):\n",
    "    loss = hp.neg_log_likely(y_train,w)[0]\n",
    "    loss_list.append(loss)\n",
    "    p = -(Hess.dot(grad_ini))\n",
    "    a =  hp.line_search(B,1,0.01,x_train,y_train,0.5)\n",
    "    step_size_list.append(a)\n",
    "    B += a*p\n",
    "    logit = hp.logits(B,x_train)\n",
    "    w = hp.activation_sigmoid(logit)\n",
    "    grad_fin = hp.gradient(x_train,y_train,w)\n",
    "    z = grad_fin -grad_ini\n",
    "    s = a*p\n",
    "    rho = 1/np.dot(z.T,s)\n",
    "    tau = rho*np.dot(s,z.T)\n",
    "    I = np.identity(11)\n",
    "    Hess =  np.dot(np.dot((I - tau),Hess),(I - tau.T)) + rho*np.dot(s,s.T)\n",
    "    ## the above formulation is the limited memory BFGS approximation for the hessian\n",
    "    grad_ini = grad_fin\n",
    "    \n",
    "    \n",
    "    \n",
    "    "
   ]
  },
  {
   "cell_type": "code",
   "execution_count": 64,
   "metadata": {},
   "outputs": [
    {
     "data": {
      "image/png": "[encoded data removed]",
      "text/plain": [
       "<matplotlib.figure.Figure at 0x216589e8588>"
      ]
     },
     "metadata": {},
     "output_type": "display_data"
    },
    {
     "data": {
      "image/png": "[encoded data removed]",
      "text/plain": [
       "<matplotlib.figure.Figure at 0x21658a58f60>"
      ]
     },
     "metadata": {},
     "output_type": "display_data"
    }
   ],
   "source": [
    "plt.plot(loss_list)\n",
    "plt.show()\n",
    "plt.plot(step_size_list )\n",
    "plt.show()"
   ]
  },
  {
   "cell_type": "code",
   "execution_count": 65,
   "metadata": {
    "collapsed": true
   },
   "outputs": [],
   "source": [
    "### step size reduces to a very small quantity at the 70th something step and thus it indicates\n",
    "### convergence, as line search is itself based on convergence"
   ]
  },
  {
   "cell_type": "code",
   "execution_count": 66,
   "metadata": {
    "collapsed": true
   },
   "outputs": [],
   "source": [
    "## lets test the accuracy on the test set\n",
    "pred = hp.predict_binary(B,x_test,0.5)\n",
    "accuracy = hp.accuracy(y_test,pred, j =0)"
   ]
  },
  {
   "cell_type": "code",
   "execution_count": 67,
   "metadata": {},
   "outputs": [
    {
     "name": "stdout",
     "output_type": "stream",
     "text": [
      "prediction Accuracy is:  0.9130434782608695\n"
     ]
    }
   ],
   "source": [
    "print(\"prediction Accuracy is: \", accuracy)"
   ]
  },
  {
   "cell_type": "code",
   "execution_count": null,
   "metadata": {
    "collapsed": true
   },
   "outputs": [],
   "source": [
    "## 91 percent, wohoo!"
   ]
  }
 ],
 "metadata": {
  "kernelspec": {
   "display_name": "Python 3",
   "language": "python",
   "name": "python3"
  },
  "language_info": {
   "codemirror_mode": {
    "name": "ipython",
    "version": 3
   },
   "file_extension": ".py",
   "mimetype": "text/x-python",
   "name": "python",
   "nbconvert_exporter": "python",
   "pygments_lexer": "ipython3",
   "version": "3.6.1"
  }
 },
 "nbformat": 4,
 "nbformat_minor": 2
}
